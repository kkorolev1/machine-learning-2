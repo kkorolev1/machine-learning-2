{
 "cells": [
  {
   "cell_type": "markdown",
   "metadata": {
    "pycharm": {
     "name": "#%% md\n"
    }
   },
   "source": [
    "# Машинное обучение, ФКН ВШЭ\n",
    "\n",
    "# Практическое задание 9. EM-алгоритм\n",
    "\n",
    "## Общая информация\n",
    "\n",
    "Дата выдачи: 27.02.2023\n",
    "\n",
    "Мягкий дедлайн: 18.03.2023 23:59 MSK\n",
    "\n",
    "Жёсткий дедлайн: 25.03.2023 23:59 MSK\n",
    "\n",
    "## Оценивание и штрафы\n",
    "Каждая из задач имеет определенную «стоимость» (указана в скобках около задачи). Максимальная оценка за работу (без учёта бонусов) — 15 баллов.\n",
    "\n",
    "Сдавать задание после указанного жёсткого срока сдачи нельзя. При выставлении неполного балла за задание в связи с наличием ошибок на усмотрение проверяющего предусмотрена возможность исправить работу на указанных в ответном письме условиях.\n",
    "\n",
    "Задание выполняется самостоятельно. «Похожие» решения считаются плагиатом и все задействованные студенты (в том числе те, у кого списали) не могут получить за него больше 0 баллов (подробнее о плагиате см. на странице курса). Если вы нашли решение какого-то из заданий (или его часть) в открытом источнике, необходимо указать ссылку на этот источник в отдельном блоке в конце вашей работы (скорее всего вы будете не единственным, кто это нашел, поэтому чтобы исключить подозрение в плагиате, необходима ссылка на источник).\n",
    "\n",
    "Неэффективная реализация кода может негативно отразиться на оценке.\n",
    "\n",
    "## Формат сдачи\n",
    "Задания сдаются через систему anytask. Посылка должна содержать:\n",
    "* Ноутбук homework-practice-09-em-Username.ipynb\n",
    "* Модули preprocessing.py, metrics.py, models.py, содержащие написанный вами код\n",
    "* Ссылки на посылки в Яндекс.Контест для всех функций и классов, которые вы реализовали\n",
    "\n",
    "Ссылка на Яндекс.Контест: https://contest.yandex.ru/contest/46988\n",
    "\n",
    "Username — ваша фамилия и имя на латинице именно в таком порядке"
   ]
  },
  {
   "cell_type": "markdown",
   "metadata": {
    "pycharm": {
     "name": "#%% md\n"
    }
   },
   "source": [
    "# Generative model of Labels, Abilities, and Difficulties (GLAD)\n",
    "\n",
    "В [семинаре 16](https://github.com/esokolov/ml-course-hse/blob/master/2022-spring/seminars/sem16-em.pdf) мы рассмотрели задачу восстановления истинной разметки по меткам от экспертов (которым мы не можем доверять в полной мере, более того, их предсказания могут расходиться).\n",
    "\n",
    "Рассмотрим следующую вероятностную модель:\n",
    "\n",
    "$$ p(L, Z | \\alpha, \\beta) = \\prod_{i=1}^{n} \\prod_{j=1}^m \\sigma(\\alpha_j\\beta_i)^{[l_{ij}=z_i]}\\sigma(-\\alpha_j\\beta_i)^{1-[l_{ij}=z_i]} p(z_j)$$\n",
    "\n",
    "где $l_{ij} -$ ответ $j$-го эксперта на задачу $i$, $z_j -$ истинная разметка, $\\alpha_i, \\beta_j-$ уровень экспертизы и сложность задачи соответственно. Для более подробного описания модели можно прочитать материалы семинара, а также [оригинальную статью](http://papers.nips.cc/paper/3644-whose-vote-should-count-more-optimal-integration-of-labels-from-labelers-of-unknown-expertise.pdf). Априорное распределение положим равномерным: $p(z_i) = 0.5$."
   ]
  },
  {
   "cell_type": "code",
   "execution_count": 1,
   "metadata": {
    "pycharm": {
     "name": "#%%\n"
    }
   },
   "outputs": [],
   "source": [
    "import numpy as np\n",
    "seed = 0xDEADF00D\n",
    "np.random.seed(seed)"
   ]
  },
  {
   "cell_type": "code",
   "execution_count": 2,
   "metadata": {
    "pycharm": {
     "name": "#%%\n"
    }
   },
   "outputs": [],
   "source": [
    "L = np.load('L.npy')\n",
    "n, m = L.shape"
   ]
  },
  {
   "cell_type": "markdown",
   "metadata": {
    "pycharm": {
     "name": "#%% md\n"
    }
   },
   "source": [
    "**Задание 1. (2 балла)** Реализуйте EM-алгоритм для заданной выше модели. Вы можете воспользоваться предложенными шаблонами или написать свои. \n",
    "\n",
    "Обратите внимание, что правдоподобие моделирует не вероятность метки $l_{ij}$ принять значение 1 или 0, а вероятность того, что она равна скрытой переменной $z_i$, т.е. $p(l_{ij} = z_j|z_j, \\alpha_j, \\beta_i) \\neq p(l_{ij} = 1|\\alpha_j, \\beta_i) $. При этом заранее неизвестно, какая из скрытых переменных соответствует метке 1. Не забывайте, что параметры $\\beta_i$ должны быть неотрицательными; для этого оптимизируйте $\\log \\beta$. На M-шаге можете использовать как один шаг градиентного спуска, так и несколько: разумные результаты у вас должны получаться вне зависимости от числа итераций.\n",
    "\n",
    "Также при работе с вероятностями не забывайте о точности:\n",
    "1. Используйте логарифмы вероятностей.\n",
    "2. $\\log \\sigma(a)$ лучше преобразовать в $\\log \\sigma(a) = -\\log(1 + \\exp(-a)) = -\\mathrm{softplus}(-a) $\n",
    "3. Ещё полезные функции: `scipy.special.expit`, `scipy.special.logsumexp`, `np.log1p`\n",
    "\n",
    "Для отладки может быть полезно проверить градиент с помощью `scipy.optimize.check_grad`."
   ]
  },
  {
   "cell_type": "code",
   "execution_count": 3,
   "metadata": {
    "pycharm": {
     "name": "#%%\n"
    }
   },
   "outputs": [],
   "source": [
    "from scipy.special import softmax, expit\n",
    "\n",
    "def softplus(x):\n",
    "    '''stable version of log(1 + exp(x))'''\n",
    "    c = (x > 20) * 1.\n",
    "    return np.log1p(np.exp(x * (1-c)) * (1-c)) + x * c"
   ]
  },
  {
   "cell_type": "code",
   "execution_count": 4,
   "metadata": {
    "pycharm": {
     "name": "#%%\n"
    }
   },
   "outputs": [],
   "source": [
    "\n",
    "# Version for debug\n",
    "def posterior_dummy(alpha, beta, L):\n",
    "    gamma = np.zeros((2, L.shape[0])).astype(float)\n",
    "\n",
    "    for t in range(2):\n",
    "        for i in range(L.shape[0]):\n",
    "            for j in range(L.shape[1]):\n",
    "                gamma[t, i] += (-1) * (L[i,j] == t) * softplus(-alpha[j] * beta[i]) - (L[i,j] != t) * softplus(alpha[j] * beta[i])\n",
    "            gamma[t, i] += np.log(0.5)\n",
    "    \n",
    "    return softmax(gamma, axis=0)\n",
    "\n",
    "\n",
    "def posterior(alpha, beta, L):\n",
    "    \"\"\" Posterior over true labels z p(z|l, \\alpha, \\beta)\n",
    "    Args:\n",
    "        alpha: ndarray of shape (n_experts).\n",
    "        beta: ndarray of shape (n_problems).\n",
    "        L: ndarray of shape (n_problems, n_experts).\n",
    "    \"\"\"\n",
    "    # beta_i * alpha_j\n",
    "    coef_mat = beta[:, None] * alpha[None, :]\n",
    "\n",
    "    # log(sigmoid(.))\n",
    "    log_p_mat = -softplus(-coef_mat)\n",
    "\n",
    "    # log(1 - sigmoid(.))\n",
    "    log_1mp_mat = -softplus(coef_mat)\n",
    "\n",
    "    # a priori distribution of latent variables\n",
    "    p_apr = 0.5\n",
    "\n",
    "    # log of joint distribution\n",
    "    gamma_0 = np.log(p_apr) + ((1 - L) * log_p_mat).sum(axis=1) + (L * log_1mp_mat).sum(axis=1)\n",
    "    gamma_1 = np.log(p_apr) + (L * log_p_mat).sum(axis=1) + ((1 - L) * log_1mp_mat).sum(axis=1)\n",
    "\n",
    "    return softmax(np.stack((gamma_0, gamma_1), axis=0), axis=0)\n",
    "\n",
    "def log_likelihood(alpha, beta, L, z):\n",
    "    \"\"\" p(l=z|z, \\alpha, \\beta)\n",
    "    Args:\n",
    "        alpha: ndarray of shape (n_experts).\n",
    "        beta: ndarray of shape (n_problems).\n",
    "        L: ndarray of shape (n_problems, n_experts).\n",
    "        z: ndarray of shape (n_problems).\n",
    "    \"\"\"\n",
    "    # beta_i * alpha_j\n",
    "    coef_mat = beta[:, None] * alpha[None, :]\n",
    "    \n",
    "    # log(sigmoid(.))\n",
    "    log_p_mat = -softplus(-coef_mat)\n",
    "    \n",
    "    # log(1 - sigmoid(.))\n",
    "    log_1mp_mat = -softplus(coef_mat)\n",
    "\n",
    "    mask = L == z\n",
    "\n",
    "    log_hood = np.zeros_like(L)\n",
    "\n",
    "    log_hood[mask] = log_p_mat\n",
    "    log_hood[~mask] = log_1mp_mat\n",
    "\n",
    "    return log_hood\n",
    "\n",
    "# Version for debug\n",
    "\n",
    "def alpha_grad_lb_dummy(alpha, beta, L, q):\n",
    "    grad = np.zeros(L.shape[1])\n",
    "\n",
    "    for j in range(L.shape[1]):\n",
    "        for i in range(L.shape[0]):\n",
    "            for t in range(2):\n",
    "                grad[j] += q[t, i] * beta[i] * ((L[i, j] == t) * expit(-alpha[j] * beta[i]) - (L[i, j] != t) * expit(alpha[j] * beta[i]))\n",
    "        \n",
    "    return grad\n",
    "\n",
    "def alpha_grad_lb(alpha, beta, L, q):\n",
    "    \"\"\" Gradient of lower bound wrt alpha\n",
    "    Args:\n",
    "        alpha: ndarray of shape (n_experts).\n",
    "        beta: ndarray of shape (n_problems).\n",
    "        L: ndarray of shape (n_problems, n_experts).\n",
    "        q: ndarray of shape (2, n_problems).\n",
    "    \"\"\"\n",
    "    # beta_i * alpha_j\n",
    "    coef_mat = beta[:, None] * alpha[None, :]\n",
    "    \n",
    "    sum_0 = q[0, :].reshape(-1, 1) * ((1 - L) * expit(-coef_mat) - L * expit(coef_mat))\n",
    "    sum_1 = q[1, :].reshape(-1, 1) * (L * expit(-coef_mat) - (1 - L) * expit(coef_mat))\n",
    "\n",
    "    return (beta.reshape(-1, 1) * (sum_0 + sum_1)).sum(axis=0)\n",
    "\n",
    "\n",
    "# Version for debug\n",
    "\n",
    "def logbeta_grad_lb_dummy(alpha, beta, L, q):\n",
    "    grad = np.zeros(L.shape[0])\n",
    "\n",
    "    for i in range(L.shape[0]):\n",
    "        for j in range(L.shape[1]):\n",
    "            for t in range(2):\n",
    "                grad[i] += q[t, i] * alpha[j] * ((L[i, j] == t) * expit(-alpha[j] * beta[i]) - (L[i, j] != t) * expit(alpha[j] * beta[i])) * beta[i]\n",
    "        \n",
    "    return grad\n",
    "\n",
    "\n",
    "def logbeta_grad_lb(alpha, beta, L, q):\n",
    "    \"\"\" Gradient of lower bound wrt log beta\n",
    "    Args:\n",
    "        alpha: ndarray of shape (n_experts).\n",
    "        beta: ndarray of shape (n_problems).\n",
    "        L: ndarray of shape (n_problems, n_experts).\n",
    "        q: ndarray of shape (2, n_problems).\n",
    "    \"\"\"\n",
    "    # beta_i * alpha_j\n",
    "    coef_mat = beta[:, None] * alpha[None, :]\n",
    "    \n",
    "    sum_0 = q[0, :].reshape(-1, 1) * ((1 - L) * expit(-coef_mat) - L * expit(coef_mat))\n",
    "    sum_1 = q[1, :].reshape(-1, 1) * (L * expit(-coef_mat) - (1 - L) * expit(coef_mat))\n",
    "\n",
    "    return ((sum_0 + sum_1) * alpha).sum(axis=1) * beta\n",
    "\n",
    "def lower_bound(alpha, beta, L, q):\n",
    "    \"\"\" Lower bound\n",
    "    Args:\n",
    "        alpha: ndarray of shape (n_experts).\n",
    "        beta: ndarray of shape (n_problems).\n",
    "        L: ndarray of shape (n_problems, n_experts).\n",
    "        q: ndarray of shape (2, n_problems).\n",
    "    \"\"\"\n",
    "    # Не использую\n",
    "    pass\n",
    "\n",
    "#alpha = np.array([1, 2, 3])\n",
    "#beta = np.array([1, 2, 3, 4])\n",
    "#L = np.array([[1, 0, 1], [1, 0, 1], [1, 1, 1], [0, 1, 1]])    \n",
    "#q = posterior(alpha, beta, L)\n",
    "\n",
    "#logbeta_grad_lb(alpha, beta, L, q), logbeta_grad_lb_dummy(alpha, beta, L, q)"
   ]
  },
  {
   "cell_type": "code",
   "execution_count": 5,
   "metadata": {
    "pycharm": {
     "name": "#%%\n"
    }
   },
   "outputs": [],
   "source": [
    "def grad_step(x, grad, lr):\n",
    "    return x + lr * grad\n",
    "\n",
    "def em(L, n_steps=1000, lr=1e-3):\n",
    "    # initialize parameters\n",
    "    alpha, logbeta = np.random.randn(m), np.random.randn(n)\n",
    "    q = np.ones((2, len(logbeta))) * 0.5\n",
    "    \n",
    "    for step in range(n_steps):\n",
    "        # E-step\n",
    "        q = posterior(alpha, np.exp(logbeta), L)\n",
    "        # M-step\n",
    "        alpha_old = alpha\n",
    "        logbeta_old = logbeta\n",
    "        \n",
    "        alpha = grad_step(alpha_old, alpha_grad_lb(alpha_old, np.exp(logbeta_old), L, q), lr)\n",
    "        logbeta = grad_step(logbeta_old, logbeta_grad_lb(alpha_old, np.exp(logbeta_old), L, q), lr)\n",
    "        \n",
    "\n",
    "    return alpha, np.exp(logbeta), q"
   ]
  },
  {
   "cell_type": "code",
   "execution_count": 6,
   "metadata": {
    "pycharm": {
     "name": "#%%\n"
    }
   },
   "outputs": [],
   "source": [
    "alpha, beta, q = em(L)"
   ]
  },
  {
   "cell_type": "markdown",
   "metadata": {
    "pycharm": {
     "name": "#%% md\n"
    }
   },
   "source": [
    "**Задание 2. (1 балл)** Загрузите настоящую разметку. Посчитайте `accuracy` разметки, полученной с помощью обычного голосования по большинству среди экспертов, и сравните его с качеством, полученным с помощью EM-алгоритма. Помните, что алгоритму не важно, какая метка 0, а какая 1, поэтому если получите качество <0.5, то просто поменяйте метки классов (не забудьте также поменять знак у $\\alpha$). "
   ]
  },
  {
   "cell_type": "code",
   "execution_count": 7,
   "metadata": {},
   "outputs": [],
   "source": [
    "from sklearn.metrics import accuracy_score"
   ]
  },
  {
   "cell_type": "code",
   "execution_count": 8,
   "metadata": {
    "pycharm": {
     "name": "#%%\n"
    }
   },
   "outputs": [
    {
     "name": "stdout",
     "output_type": "stream",
     "text": [
      "Majority vote 0.892\n",
      "EM 0.955\n"
     ]
    }
   ],
   "source": [
    "y = np.load('y.npy')\n",
    "# (∩ ￣ー￣)⊃ ✳✨✳✨✳✨✳\n",
    "majority_vote = 2 * L.sum(axis=1) >= L.shape[1]\n",
    "\n",
    "print(\"Majority vote\", accuracy_score(y, majority_vote))\n",
    "\n",
    "em_vote = q.argmax(axis=0)\n",
    "\n",
    "if (alpha > 0).sum() / len(alpha) < 0.5:\n",
    "    em_vote = 1 - em_vote\n",
    "    alpha = -alpha\n",
    "\n",
    "print(\"EM\", accuracy_score(y, em_vote))"
   ]
  },
  {
   "cell_type": "markdown",
   "metadata": {
    "pycharm": {
     "name": "#%% md\n"
    }
   },
   "source": [
    "**Задание 3. (0.5 балла)** Попробуйте проинтерпретировать полученные коэфициенты $\\alpha$. Есть ли в выборке эксперты, которые намеренно голосуют неверно? Как это можно понять по альфам? Продемонстрируйте, что эксперты действительно чаще голосуют за неверный класс. Постройте график зависимости доли врено размеченных экспертом объектов от коэффициента $\\alpha$. Прокомментируйте результаты."
   ]
  },
  {
   "cell_type": "code",
   "execution_count": 9,
   "metadata": {},
   "outputs": [],
   "source": [
    "import matplotlib.pyplot as plt\n",
    "import seaborn as sns"
   ]
  },
  {
   "attachments": {},
   "cell_type": "markdown",
   "metadata": {},
   "source": [
    "Я уже преобразовал $\\alpha$, чтобы правильно их интерпретировать, то есть поменял знак, если accuracy была меньше 0.5. Но действительно EM алгоритм чаще оптимизирует так, что $\\alpha$ становятся отрицательными.\n",
    "\n",
    "Если $\\alpha < 0$, то считаем эксперта \"вредным\", голосующим специально неправильно. При росте положительных $\\alpha$ экспертность увеличивается."
   ]
  },
  {
   "cell_type": "code",
   "execution_count": 10,
   "metadata": {
    "pycharm": {
     "name": "#%%\n"
    }
   },
   "outputs": [
    {
     "name": "stdout",
     "output_type": "stream",
     "text": [
      "Доля вредных экспертов 0.2\n"
     ]
    },
    {
     "data": {
      "image/png": "[encoded data removed]",
      "text/plain": [
       "<Figure size 640x480 with 1 Axes>"
      ]
     },
     "metadata": {},
     "output_type": "display_data"
    }
   ],
   "source": [
    "# (∩ᄑ_ᄑ)⊃━☆ﾟ*･｡*\n",
    "\n",
    "print(\"Доля вредных экспертов\", (alpha < 0).sum() / len(alpha))\n",
    "\n",
    "plt.scatter(alpha, (L == y[:, None]).mean(axis=0))\n",
    "plt.title(\"Зависимость доли верных ответов эксперта от alpha\")\n",
    "plt.xlabel(\"alpha\")\n",
    "plt.ylabel(\"доля верных ответов\");"
   ]
  },
  {
   "cell_type": "code",
   "execution_count": 11,
   "metadata": {},
   "outputs": [
    {
     "name": "stdout",
     "output_type": "stream",
     "text": [
      "Количество экспертов, доля правильных предсказаний которых меньше половины: 4\n"
     ]
    }
   ],
   "source": [
    "print(\"Количество экспертов, доля правильных предсказаний которых меньше половины:\", ((L == y[:, None]).mean(axis=0) <= 0.5).sum())"
   ]
  },
  {
   "attachments": {},
   "cell_type": "markdown",
   "metadata": {},
   "source": [
    "Действительно, чем больше $\\alpha$, тем больше доля верных предсказаний. Интересно, что получилось три кластера: хорошие эксперты с $\\alpha \\approx 4$, неуверенные эксперты с $\\alpha \\approx 0$ и вредные c $\\alpha \\approx -4$."
   ]
  },
  {
   "cell_type": "markdown",
   "metadata": {
    "pycharm": {
     "name": "#%% md\n"
    }
   },
   "source": [
    "**Задание 4. (бонус, 2 балла)**  Как уже было замечено выше, модели не важно, какой класс 1, а какой 0. Скажем, если все эксперты оказались максимально противными и ставят метку с точностью наоборот, то у вас будет полная согласованность между экспертами, при этом невозможно понять правильно они разметили выборку или нет, смотря только на такую разметку. Чтобы избежать этого, можно включать в выборку вопрос с заведомо известным ответом, тогда вы сможете определить, ставит ли эксперт специально неверные метки.\n",
    "\n",
    "Чтобы обощить данную модель на случай заданий с заведомо известной меткой, достоточно не делать для них E-шаг, а всегда полагать апостериорное распределение вырожденным в истинном классе. Реализуйте данную модель и используйте истинную разметку *для нескольких* задач из обучения. Проинтерпретируйте полученные результаты."
   ]
  },
  {
   "cell_type": "code",
   "execution_count": 12,
   "metadata": {},
   "outputs": [],
   "source": [
    "def relaxed_em(L, true_labels, n_steps=1000, lr=1e-3):\n",
    "    \"\"\"EM-алгоритм для задачи GLAD с частично известной разметкой\n",
    "        true_labels: {0, 1} - для известных задач, -1 - для неизвестных\n",
    "    \"\"\"\n",
    "\n",
    "    # initialize parameters\n",
    "    alpha, logbeta = np.random.randn(m), np.random.randn(n)\n",
    "    q = np.ones((2, len(logbeta))) * 0.5\n",
    "    \n",
    "    for step in range(n_steps):\n",
    "        # E-step\n",
    "        q = posterior(alpha, np.exp(logbeta), L)\n",
    "\n",
    "        # Апостериорное распределение вырожденное для известных меток        \n",
    "        q[0, true_labels == 0] = 1\n",
    "        q[1, true_labels == 0] = 0\n",
    "\n",
    "        q[0, true_labels == 1] = 0\n",
    "        q[1, true_labels == 1] = 1\n",
    "\n",
    "        # M-step\n",
    "        alpha_old = alpha\n",
    "        logbeta_old = logbeta\n",
    "        \n",
    "        alpha = grad_step(alpha_old, alpha_grad_lb(alpha_old, np.exp(logbeta_old), L, q), lr)\n",
    "        logbeta = grad_step(logbeta_old, logbeta_grad_lb(alpha_old, np.exp(logbeta_old), L, q), lr)\n",
    "        \n",
    "\n",
    "    return alpha, np.exp(logbeta), q"
   ]
  },
  {
   "cell_type": "code",
   "execution_count": 13,
   "metadata": {},
   "outputs": [],
   "source": [
    "true_labels = np.full_like(y, -1)\n",
    "\n",
    "# Пусть разметка для первых N картинок известна\n",
    "n_known = 100\n",
    "true_labels[:n_known] = y[:n_known]\n",
    "\n",
    "alpha, beta, q = relaxed_em(L, true_labels)"
   ]
  },
  {
   "cell_type": "code",
   "execution_count": 14,
   "metadata": {},
   "outputs": [
    {
     "name": "stdout",
     "output_type": "stream",
     "text": [
      "Relaxed EM 0.9585\n"
     ]
    }
   ],
   "source": [
    "relaxed_em_vote = q.argmax(axis=0)\n",
    "\n",
    "print(\"Relaxed EM\", accuracy_score(y, relaxed_em_vote))"
   ]
  },
  {
   "attachments": {},
   "cell_type": "markdown",
   "metadata": {},
   "source": [
    "Видим, что качество выросло и теперь не нужно спавать предсказание и альфы, модель поняла как раставлять метки и альфы автоматически интерпретируемы. Однако само распределение альф не сильно поменялось."
   ]
  },
  {
   "cell_type": "code",
   "execution_count": 15,
   "metadata": {},
   "outputs": [
    {
     "data": {
      "image/png": "[encoded data removed]",
      "text/plain": [
       "<Figure size 640x480 with 1 Axes>"
      ]
     },
     "metadata": {},
     "output_type": "display_data"
    }
   ],
   "source": [
    "# (∩ᄑ_ᄑ)⊃━☆ﾟ*･｡*\n",
    "sns.scatterplot(alpha)\n",
    "plt.title(\"Распределение экспертности\")\n",
    "plt.ylabel(\"alpha\")\n",
    "plt.xticks(range(L.shape[1]));"
   ]
  },
  {
   "cell_type": "markdown",
   "metadata": {
    "pycharm": {
     "name": "#%% md\n"
    }
   },
   "source": [
    "# Выравнивание слов (Word Alignment)"
   ]
  },
  {
   "cell_type": "markdown",
   "metadata": {
    "pycharm": {
     "name": "#%% md\n"
    }
   },
   "source": [
    "EM-алгоритм также применяют на практике для настройки параметров модели выравнивания слов, более сложные модификации которой используются в статистическом машинном переводе. Мы не будем подробно обсуждать применение word alignment для перевода и ограничимся следующей целью: пусть у нас есть параллельный корпус из предложений на исходном языке и их переводов на целевой язык (в этом задании используются английский и чешский соответственно). \n",
    "\n",
    "Первая задача — определить с помощью этого корпуса, как переводится каждое отдельное слово на целевом языке. Вторая задача — для произвольной пары из предложения и его перевода установить, переводом какого слова в исходном предложении является каждое слово в целевом предложении. Оказывается, у обеих задач существует элегантное и эффективное решение при введении правильной вероятностной модели: в этой части задания вам предстоит его реализовать и оценить результаты работы. Но обо всём по порядку :)\n",
    "\n",
    "---\n",
    "\n",
    "Перед тем, как заниматься машинным обучением, давайте разберёмся с данными и метриками в интересующей нас задаче. В ячейке ниже загружается и разархивируется параллельный английско-чешский корпус, в котором есть разметка выравнивания слов. Нетрудно заметить, что формат XML-файла, использованный его авторами, не вполне стандартный: нет готовой команды , которая позволила бы получить список пар предложений вместе с выравниваниями. Это значит, что нужно разобраться с форматом и написать парсер самостоятельно, используя встроенные средства Python, например, модуль [xml](https://docs.python.org/3.7/library/xml.html)."
   ]
  },
  {
   "cell_type": "code",
   "execution_count": 16,
   "metadata": {
    "pycharm": {
     "name": "#%%\n"
    }
   },
   "outputs": [
    {
     "name": "stdout",
     "output_type": "stream",
     "text": [
      "<?xml version=\"1.0\" encoding=\"utf-8\" ?>\n",
      "<sentences>\n",
      "<s id=\"project_syndicate_bacchetta1-s1\">\n",
      "  <english>Are the Dollar 's Days Numbered ?</english>\n",
      "  <czech>Jsou dny dolaru sečteny ?</czech>\n",
      "  <sure>1-1 3-3 5-2 6-4 7-5</sure>\n",
      "  <possible>2-2 4-3</possible>\n",
      "</s>\n",
      "<s id=\"project_syndicate_bacchetta1-s2\">\n",
      "  <english>Philippe Bacchetta and Eric van Wincoop</english>\n",
      "  <czech>Philippe Bacchetta and Eric van Wincoop</czech>\n",
      "  <sure>1-1 2-2 3-3 4-4 5-5 6-6</sure>\n",
      "  <possible></possible>\n",
      "</s>\n",
      "<s id=\"project_syndicate_bacchetta1-s3\">\n",
      "  <english>A year ago , the dollar bestrode the world like a colossus .</english>\n",
      "  <czech>Ještě před rokem dolar dominoval světu jako imperátor .</czech>\n",
      "  <sure>10-7 12-8 13-9 2-3 3-2 6-4 7-5 9-6</sure>\n",
      "  <possible>1-3 11-8 3-1 5-4 8-6</possible>\n",
      "</s>\n"
     ]
    }
   ],
   "source": [
    "%%bash\n",
    "wget -q https://lindat.mff.cuni.cz/repository/xmlui/bitstream/handle/11234/1-1804/CzEnAli_1.0.tar.gz -O CzEnAli_1.0.tar.gz\n",
    "mkdir -p data\n",
    "tar -xzf CzEnAli_1.0.tar.gz -C data/\n",
    "head -n 20 data/merged_data/project_syndicate/project_syndicate_bacchetta1.wa"
   ]
  },
  {
   "cell_type": "markdown",
   "metadata": {
    "pycharm": {
     "name": "#%% md\n"
    }
   },
   "source": [
    "**Задание -2. (0.5 балла)** Реализуйте функцию `extract_sentences`, которая принимает на вход путь к файлу с XML-разметкой, используемой в этом датасете, и возвращает список параллельных предложений, а также список из «уверенных» (sure) и «возможных» (possible) пар выравниваний. Отправьте вашу реализацию в Яндекс.Контест, чтобы убедиться в её корректности; в следующей ячейке ноутбука соберите все пары размеченных предложений из датасета в два списка `all_sentences` (список `SentencePair`) и `all_targets` (список LabeledAlignment).\n",
    "\n",
    "Здесь и далее соблюдайте сигнатуры функций и пользуйтесь объявленными в модуле `preprocessing.py` классами для организации данных. Стоит заметить, что предложения уже токенизированы (даже отделена пунктуация), поэтому предобработку текстов совершать не нужно. Обратите внимание на формат хранения выравниваний: нумерация начинается с 1 (в таком виде и нужно сохранять), первым в паре идёт слово из англоязычного предложения."
   ]
  },
  {
   "cell_type": "code",
   "execution_count": 17,
   "metadata": {},
   "outputs": [],
   "source": [
    "%load_ext autoreload\n",
    "%autoreload 2"
   ]
  },
  {
   "cell_type": "code",
   "execution_count": 18,
   "metadata": {
    "pycharm": {
     "name": "#%%\n"
    }
   },
   "outputs": [
    {
     "data": {
      "text/plain": [
       "(2501, 2501)"
      ]
     },
     "execution_count": 18,
     "metadata": {},
     "output_type": "execute_result"
    }
   ],
   "source": [
    "import glob\n",
    "from preprocessing import extract_sentences\n",
    "\n",
    "all_sentences = []\n",
    "all_targets = []\n",
    "# (´◕▽◕)⊃━☆\n",
    "\n",
    "for filename in list(glob.glob(\"data/merged_data/*/*.wa\")):\n",
    "    sentence_pairs, alignments = extract_sentences(filename)\n",
    "    all_sentences.extend(sentence_pairs)\n",
    "    all_targets.extend(alignments)\n",
    "\n",
    "len(all_sentences), len(all_targets)"
   ]
  },
  {
   "cell_type": "markdown",
   "metadata": {
    "pycharm": {
     "name": "#%% md\n"
    }
   },
   "source": [
    "**Задание -1. (0.5 балла)** Реализуйте функции `get_token_to_index` и `tokenize_sents` из модуля `preprocessing.py`, постройте словари token->index для обоих языков и постройте список из `TokenizedSentencePair` по выборке. Реализации функций также отправьте в Яндекс.Контест."
   ]
  },
  {
   "cell_type": "code",
   "execution_count": 19,
   "metadata": {
    "pycharm": {
     "name": "#%%\n"
    }
   },
   "outputs": [],
   "source": [
    "from preprocessing import get_token_to_index, tokenize_sents\n",
    "\n",
    "t_idx_src, t_idx_tgt = get_token_to_index(all_sentences)\n",
    "tokenized_sentences = tokenize_sents(all_sentences, t_idx_src, t_idx_tgt)"
   ]
  },
  {
   "cell_type": "markdown",
   "metadata": {
    "pycharm": {
     "name": "#%% md\n"
    }
   },
   "source": [
    "В качестве бейзлайна для этой задачи мы возьмём способ выравнивания слов по коэффициенту Дайса: слово в исходном языке является переводом слова на целевом языке, если они часто встречаются в одних и тех же предложениях и редко встречаются по отдельности. \n",
    "\n",
    "Математически это записывается по аналогии с мерой Жаккара: пусть $c(x,y)$ — число параллельных предложений, в которых есть и $x$ (на исходном языке), и $y$ (на целевом языке), а $c(x)$ и $c(y)$ — суммарное количество предложений, в которых встречается слово $x$ и $y$ соответственно. Тогда $\\textrm{Dice}(x,y)=\\frac{2 \\cdot c(x,y)}{c(x) + c(y)}$ — характеристика «похожести» слов $x$ и $y$. Она равна 1, если слова встречаются только в контексте друг друга (не бывает предложений только со словом $x$ без $y$ в переводе и наоборот), равна 0, если слова никогда не встречаются в параллельных предложениях и находится между пороговыми значениями в остальных случаях.\n",
    "\n",
    "В файле `models.py` описан абстрактный класс `BaseAligner`, наследником которого должны являться все модели в задании, а также приведён пример реализации `DiceAligner` выравнивания слов описанным выше путём. Ниже вы можете увидеть, как применять эту модель."
   ]
  },
  {
   "cell_type": "code",
   "execution_count": 20,
   "metadata": {
    "pycharm": {
     "name": "#%%\n"
    }
   },
   "outputs": [],
   "source": [
    "from models import DiceAligner\n",
    "\n",
    "baseline = DiceAligner(len(t_idx_src), len(t_idx_tgt), threshold=0.01)\n",
    "baseline.fit(tokenized_sentences)"
   ]
  },
  {
   "cell_type": "markdown",
   "metadata": {
    "pycharm": {
     "name": "#%% md\n"
    }
   },
   "source": [
    "Чтобы оценить качество модели выравнивания, пользуясь имеющейся разметкой, существует ряд автоматических метрик. Они подразумевают, что в разметке есть два вида выравниваний — «уверенные» (sure) и «возможные» (possible). Обозначим для конкретного предложения первое множество выравниваний $S$, второе — $P$, а предсказанные выравнивания — $A$; причём, в отличие от разметки в файле, $S\\subseteq P$. Тогда можно предложить три метрики, используя только операции над этими множествами:\n",
    "\n",
    "Precision $=\\frac{|A\\cap P|}{|A|}$. Отражает, какая доля предсказанных нами выравниваний вообще корректна; если мы дадим в качестве ответа все возможные пары слов в предложении, эта метрика сильно просядет.\n",
    "\n",
    "Recall $=\\frac{|A\\cap S|}{|S|}$. Эта метрика показывает, какую долю «уверенных» выравниваний мы обнаружили. Если мы попытаемся сделать слишком консервативную модель, которая выдаёт 0 или 1 предсказание на нетривиальных предложениях, полнота получится крайне низкая. \n",
    "\n",
    "Alignment Error Rate (AER) $=1-\\frac{|A\\cap P|+|A\\cap S|}{|A|+|S|}$. Метрика является комбинацией двух предыдущих и отслеживает общее качество работы системы, штрафуя оба описанных выше вида нежелаемого поведения модели. \n",
    "\n",
    "**Задание 0. (0.5 балла)** Реализуйте функции compute_precision, compute_recall, compute_aer из модуля metrics.py. Оцените качество бейзлайнового метода. Обратите внимание, что нужно использовать микро-усреднение во всех функциях: необходимо просуммировать числитель и знаменатель по всем предложениям и только потом делить."
   ]
  },
  {
   "cell_type": "code",
   "execution_count": 21,
   "metadata": {
    "pycharm": {
     "name": "#%%\n"
    }
   },
   "outputs": [
    {
     "data": {
      "text/plain": [
       "0.8074618330841489"
      ]
     },
     "execution_count": 21,
     "metadata": {},
     "output_type": "execute_result"
    }
   ],
   "source": [
    "from metrics import compute_aer\n",
    "\n",
    "compute_aer(all_targets,baseline.align(tokenized_sentences))"
   ]
  },
  {
   "cell_type": "markdown",
   "metadata": {
    "pycharm": {
     "name": "#%% md\n"
    }
   },
   "source": [
    "Теперь мы можем перейти к базовой вероятностной модели для выравнивания слов. Пусть $S=(s_1,\\ldots,s_n)$ исходное предложение, $T=(t_1,\\ldots,t_m)$ — его перевод. В роли латентных переменных будут выступать выравнивания $A=(a_1,\\ldots,a_m)$ каждого слова в целевом предложении, причём $a_i\\in\\{1,\\ldots,n\\}$ (считаем, что каждое слово в $t$ является переводом какого-то слова из $s$). Параметрами модели является матрица условных вероятностей перевода: каждый её элемент $\\theta(y|x)=p(y|x)$ отражает вероятность того, что переводом слова $x$ с исходного языка на целевой является слово $y$ (нормировка, соответственно, совершается по словарю целевого языка). Правдоподобие латентных переменных и предложения на целевом языке в этой модели записывается так:\n",
    "\n",
    "$$\n",
    "p(A,T|S)=\\prod_{i=1}^m p(a_i)p(t_i|a_i,S)=\\prod_{i=1}^m \\frac{1}{n}\\theta(t_i|s_{a_i}).\n",
    "$$ "
   ]
  },
  {
   "cell_type": "markdown",
   "metadata": {
    "pycharm": {
     "name": "#%% md\n"
    }
   },
   "source": [
    "**Задание 1. (2 балла)** Выведите шаги EM-алгоритма для этой модели, а также получите выражение для подсчёта нижней оценки правдоподобия ($\\mathcal{L}$ в обозначениях лекции и семинара). **Обратите внимание, что на M-шаге нужно найти аналитический максимум по параметрам.**"
   ]
  },
  {
   "attachments": {},
   "cell_type": "markdown",
   "metadata": {
    "pycharm": {
     "name": "#%% md\n"
    }
   },
   "source": [
    "(∩｀-´)⊃━☆ﾟ.*･｡ﾟ\n",
    "Е-шаг. Посчитаем апостериорные вероятности\n",
    "$$\n",
    "S_i - \\text{i-ое предложение на source языке}, n - \\text{длина предложения}\n",
    "\\\\\n",
    "T_i - \\text{i-ое предложение на target языке}, m - \\text{длина предложения}\n",
    "\\\\\n",
    "A_i - \\text{выравнивание в i-ом предложении}\n",
    "\\\\\n",
    "q_{ijk} = p(A_{ik} = j \\mid S_i, T_i) = \\frac{p(T_i, A_{ik} = j \\mid S_i)}{p(T_i \\mid S_i)} = \\frac{\\sum_{j_1,\\ldots, j_{k-1}, j_{k+1}, \\ldots, j_m} p(T_i, A_{i1} = j_1, \\ldots, A_{ik} = j, \\ldots, A_{im} = j_m \\mid S_i)}{\\sum_{l_1, \\ldots, l_m} p(T_i, A_{i1} = l_1, \\ldots, A_{ik} = l_k, \\ldots, A_{im} = l_m \\mid S_i)} =\\\\\n",
    "= \\frac{\\sum_{j_1,\\ldots, j_{k-1}, j_{k+1}, \\ldots, j_m} \\frac{1}{n} \\theta(T_{ik} \\mid S_{ij}) \\prod_{\\alpha=1, \\alpha \\ne k}^m \\frac{1}{n} \\theta(T_{i\\alpha} \\mid S_{ij_\\alpha})}{\\sum_{l_1, \\ldots, l_m} \\prod_{\\alpha=1}^m \\frac{1}{n} \\theta(T_{i\\alpha} \\mid S_{il_\\alpha})} = \\frac{\\left(\\prod_{\\alpha=1, \\alpha \\ne k}^m \\sum_{j_1,\\ldots, j_{k-1}, j_{k+1}, \\ldots, j_m} \\theta(T_{i\\alpha} \\mid S_{ij_\\alpha}) \\right) \\theta(T_{ik} \\mid S_{ij})}{\\prod_{\\alpha=1}^m \\sum_{l_1, \\ldots, l_m} \\theta(T_{i\\alpha} \\mid S_{il_\\alpha})} =\\\\\n",
    "=\\frac{\\theta(T_{ik} \\mid S_{ij})}{\\sum_{l=1}^n \\theta(T_{ik} \\mid S_{il})}\n",
    "$$\n",
    "\n",
    "М-шаг. Максимизируем следующий функционал\n",
    "$$\n",
    "E_q \\left[\\log P(\\mathbb{A}, \\mathbb{T} \\mid \\mathbb{S})\\right] = E_q \\left[\\log{(\\prod_{i=1}^{L} P(A_i, T_i \\mid S_i))}\\right] = E_q \\left[\\sum_{i=1}^{L} \\log{(P(A_i, T_i \\mid S_i))} \\right] = E_q \\left[ \\sum_{i=1}^{L} \\log{(\\prod_{k=1}^{m_i} \\frac{1}{n} \\theta(T_{ik} \\mid S_{iA_{ik}}))} \\right] =\\\\\n",
    "= E_q \\left[ \\sum_{i=1}^{L} \\sum_{k=1}^{m_i} \\log{\\frac{1}{n}} + \\log{\\theta(T_{ik} \\mid S_{iA_{ik}})} \\right] = C + \\sum_{i=1}^{L} \\sum_{j=1}^{n_i} \\sum_{k=1}^{m_i} q_{ijk} \\log{\\theta(T_{ik} \\mid S_{iA_{ik}})} \\to \\max_{\\theta}\n",
    "$$\n",
    "\n",
    "Переформулируем задачу следующим образом\n",
    "$$\n",
    "count(\\alpha, \\beta) = \\sum_{i=1}^{L} \\sum_{j=1}^{n_i} \\sum_{k=1}^{m_i} [S_{ij} = \\alpha] [T_{ik} = \\beta] q_{ijk} \\\\\n",
    "\\sum_{\\alpha, \\beta} count(\\alpha, \\beta) \\log{\\theta(\\beta \\mid \\alpha)} \\to \\max_{\\theta}\\\\\n",
    "\\sum_{\\beta} \\theta(\\beta \\mid \\alpha) = 1, \\quad \\forall \\alpha\n",
    "$$\n",
    "\n",
    "Запишем лагранжиан, где $\\hat{1}$ - вектор из единиц\n",
    "$$\n",
    "L = \\sum_{\\alpha, \\beta} count(\\alpha, \\beta) \\log{\\theta(\\beta \\mid \\alpha)} - \\lambda^T (\\Theta * \\hat{1} - \\hat{1}) \\to \\max_{\\Theta, \\lambda}\n",
    "$$\n",
    "\n",
    "$$\n",
    "\\frac{\\partial{L}}{\\partial{\\theta(\\beta \\mid \\alpha)}} = \\frac{count(\\alpha, \\beta)}{\\theta(\\beta \\mid \\alpha)} - \\lambda_{\\alpha} = 0\\\\\n",
    "\\theta(\\beta \\mid \\alpha) = \\frac{count(\\alpha, \\beta)}{\\lambda_{\\alpha}}\\\\\n",
    "\\sum_{\\beta} \\theta(\\beta \\mid \\alpha) = \\sum_{\\beta} \\frac{count(\\alpha, \\beta)}{\\lambda_{\\alpha}} = 1\\\\\n",
    "\\lambda_{\\alpha} = \\sum_{\\beta} count(\\alpha, \\beta) \\Rightarrow\\\\\n",
    "\\theta(\\beta \\mid \\alpha) = \\frac{count(\\alpha, \\beta)}{\\sum_{\\beta'} count(\\alpha, \\beta')}\n",
    "$$"
   ]
  },
  {
   "cell_type": "markdown",
   "metadata": {
    "pycharm": {
     "name": "#%% md\n"
    }
   },
   "source": [
    "**Задание 2. (2.5 балла)** Реализуйте все методы класса `WordAligner` в соответствии с полученными вами формулами. Протестируйте вашу реализацию через Яндекс.Контест, а здесь обучите модель и посчитайте её AER на истинной разметке. Чтобы предсказать выравнивание для пары предложений в этой модели, следует выбирать в соответствие для слова в целевом предложении с индексом $i$ позицию, соответствующую максимуму апостериорного распределения $p(a_i|T,S)$."
   ]
  },
  {
   "cell_type": "code",
   "execution_count": 22,
   "metadata": {
    "pycharm": {
     "name": "#%%\n"
    }
   },
   "outputs": [
    {
     "data": {
      "text/plain": [
       "0.5748922025665566"
      ]
     },
     "execution_count": 22,
     "metadata": {},
     "output_type": "execute_result"
    }
   ],
   "source": [
    "from models import WordAligner\n",
    "\n",
    "word_aligner = WordAligner(len(t_idx_src), len(t_idx_tgt), 20)\n",
    "history = word_aligner.fit(tokenized_sentences)\n",
    "compute_aer(all_targets, word_aligner.align(tokenized_sentences))"
   ]
  },
  {
   "cell_type": "markdown",
   "metadata": {
    "pycharm": {
     "name": "#%% md\n"
    }
   },
   "source": [
    "Заметим, что таблицу вероятностей перевода можно использовать и саму по себе для построения словарей. Пример работы показан ниже: метод хоть и работает, но мягко говоря, неидально — слишком мало данных."
   ]
  },
  {
   "cell_type": "code",
   "execution_count": 23,
   "metadata": {
    "pycharm": {
     "name": "#%%\n"
    }
   },
   "outputs": [],
   "source": [
    "idx_token_tgt = {index:token for token, index in t_idx_tgt.items()}"
   ]
  },
  {
   "cell_type": "code",
   "execution_count": 24,
   "metadata": {
    "pycharm": {
     "name": "#%%\n"
    }
   },
   "outputs": [
    {
     "data": {
      "text/plain": [
       "['Pan', 'řekl', 'pan']"
      ]
     },
     "execution_count": 24,
     "metadata": {},
     "output_type": "execute_result"
    }
   ],
   "source": [
    "[idx_token_tgt[i] for i in word_aligner.translation_probs[t_idx_src['Mr']].argsort()[-3:]]"
   ]
  },
  {
   "cell_type": "code",
   "execution_count": 25,
   "metadata": {
    "pycharm": {
     "name": "#%%\n"
    }
   },
   "outputs": [
    {
     "data": {
      "text/plain": [
       "['-', 'Mannová', 'paní']"
      ]
     },
     "execution_count": 25,
     "metadata": {},
     "output_type": "execute_result"
    }
   ],
   "source": [
    "[idx_token_tgt[i] for i in word_aligner.translation_probs[t_idx_src['Mrs']].argsort()[-3:]]"
   ]
  },
  {
   "cell_type": "code",
   "execution_count": 26,
   "metadata": {
    "pycharm": {
     "name": "#%%\n"
    },
    "scrolled": true
   },
   "outputs": [
    {
     "data": {
      "text/plain": [
       "['z', 'pro', 'vody']"
      ]
     },
     "execution_count": 26,
     "metadata": {},
     "output_type": "execute_result"
    }
   ],
   "source": [
    "[idx_token_tgt[i] for i in word_aligner.translation_probs[t_idx_src['water']].argsort()[-3:]]"
   ]
  },
  {
   "cell_type": "code",
   "execution_count": 27,
   "metadata": {
    "pycharm": {
     "name": "#%%\n"
    }
   },
   "outputs": [
    {
     "data": {
      "text/plain": [
       "['koni', 'konec', 'dne']"
      ]
     },
     "execution_count": 27,
     "metadata": {},
     "output_type": "execute_result"
    }
   ],
   "source": [
    "[idx_token_tgt[i] for i in word_aligner.translation_probs[t_idx_src['depended']].argsort()[-3:]]"
   ]
  },
  {
   "cell_type": "code",
   "execution_count": 28,
   "metadata": {
    "pycharm": {
     "name": "#%%\n"
    }
   },
   "outputs": [
    {
     "data": {
      "text/plain": [
       "['.', 'se', 'na']"
      ]
     },
     "execution_count": 28,
     "metadata": {},
     "output_type": "execute_result"
    }
   ],
   "source": [
    "[idx_token_tgt[i] for i in word_aligner.translation_probs[t_idx_src['on']].argsort()[-3:]]"
   ]
  },
  {
   "cell_type": "markdown",
   "metadata": {
    "pycharm": {
     "name": "#%% md\n"
    }
   },
   "source": [
    "**Задание 3. (0.5 балла)** Мы смогли получить матрицу условных вероятностей перевода исходного языка в целевой. Можно ли, пользуясь этой матрицей и ещё какими-то статистиками по параллельному корпусу, получить вероятности перевода целевого языка в исходный? Реализуйте такой метод и приведите ниже пример его работы, показав пару удачных переводов."
   ]
  },
  {
   "attachments": {},
   "cell_type": "markdown",
   "metadata": {},
   "source": [
    "По формуле Байеса \n",
    "$$\n",
    "p(s \\mid t) = \\frac{p(t \\mid s)\\;p(s)}{p(t)} = \\frac{p(t \\mid s)\\;p(s)}{\\sum_{s' \\in S} p(t \\mid s')\\;p(s')}\n",
    "$$\n",
    "где $p(s)$ можно оценить частотностью слова $s$ в корпусе $S$."
   ]
  },
  {
   "cell_type": "code",
   "execution_count": 29,
   "metadata": {
    "pycharm": {
     "name": "#%%\n"
    }
   },
   "outputs": [],
   "source": [
    "# (>ω<)ノ—==ΞΞ☆*✲ﾟ\n",
    "from collections import Counter"
   ]
  },
  {
   "cell_type": "code",
   "execution_count": 30,
   "metadata": {},
   "outputs": [],
   "source": [
    "def source_frequencies(sentences):\n",
    "    counter = Counter()\n",
    "\n",
    "    for sentence in sentences:\n",
    "        for word in sentence.source_tokens:\n",
    "            counter[word] += 1\n",
    "\n",
    "    src_num_words = sum(c for _, c in counter.items())\n",
    "    for word in counter:\n",
    "        counter[word] /= src_num_words\n",
    "    \n",
    "    return np.array(list(counter.values()))\n",
    "\n",
    "def conditional_target_to_source(conditional_source_to_target, source_freq):\n",
    "    # i - target token\n",
    "    # j - source token\n",
    "    # phi_{ij} = theta_{ji} * p_j\n",
    "\n",
    "    translation_probs = conditional_source_to_target * source_freq.reshape(-1, 1)\n",
    "    translation_probs /= translation_probs.sum(axis = 0)\n",
    "    return translation_probs.T\n",
    "\n",
    "source_freq = source_frequencies(tokenized_sentences)\n",
    "tgt_to_source_probs = conditional_target_to_source(word_aligner.translation_probs, source_freq)\n",
    "idx_token_src = {index:token for token, index in t_idx_src.items()}"
   ]
  },
  {
   "cell_type": "code",
   "execution_count": 31,
   "metadata": {},
   "outputs": [
    {
     "data": {
      "text/plain": [
       "['ranními', 'část', 'ráno']"
      ]
     },
     "execution_count": 31,
     "metadata": {},
     "output_type": "execute_result"
    }
   ],
   "source": [
    "[idx_token_tgt[i] for i in word_aligner.translation_probs[t_idx_src['morning']].argsort()[-3:]]"
   ]
  },
  {
   "cell_type": "code",
   "execution_count": 32,
   "metadata": {},
   "outputs": [],
   "source": [
    "# Google translate ['morning', 'part', 'morning']"
   ]
  },
  {
   "cell_type": "code",
   "execution_count": 33,
   "metadata": {},
   "outputs": [
    {
     "data": {
      "text/plain": [
       "['o', 'žena', 'až']"
      ]
     },
     "execution_count": 33,
     "metadata": {},
     "output_type": "execute_result"
    }
   ],
   "source": [
    "[idx_token_tgt[i] for i in word_aligner.translation_probs[t_idx_src['woman']].argsort()[-3:]]"
   ]
  },
  {
   "cell_type": "code",
   "execution_count": 34,
   "metadata": {},
   "outputs": [],
   "source": [
    "# Google translate ['about', 'woman', 'to']"
   ]
  },
  {
   "cell_type": "markdown",
   "metadata": {
    "pycharm": {
     "name": "#%% md\n"
    }
   },
   "source": [
    "**Задание 4. (0.5 балла)** Визуализируйте полученные выравнивания для нескольких предложений в виде heatmap: по одной из осей располагаются токены исходного текста, по другой — токены его перевода, на пересечении позиций $i$ и $j$ — 0 либо 1 в зависимости от того, является ли в обученной модели $a_i$ равным $j$. Можете ли вы их проинтерпретировать? Постройте аналогичный график, но без дискретизации, а визуализируя напрямую апостериорное распределение. Можете ли вы найти ситуации, в которых модель не уверена, переводом какого слова является слово $i$?"
   ]
  },
  {
   "cell_type": "code",
   "execution_count": 35,
   "metadata": {
    "pycharm": {
     "name": "#%%\n"
    }
   },
   "outputs": [],
   "source": [
    "# (•̀ 3 •́)━★☆.*･｡ﾟ\n",
    "alignments = word_aligner.align(tokenized_sentences)\n",
    "\n",
    "def plot_heatmap(sentence_alignment, tokenized_sentence):\n",
    "    heatmap = np.zeros((len(tokenized_sentence.target_tokens), len(tokenized_sentence.source_tokens)))\n",
    "\n",
    "    for src_id, tgt_id in sentence_alignment:\n",
    "        heatmap[tgt_id - 1, src_id - 1] = 1\n",
    "\n",
    "    sns.heatmap(heatmap)\n",
    "    plt.xlabel(\"Target sentence\")\n",
    "    plt.ylabel(\"Source sentence\")"
   ]
  },
  {
   "cell_type": "code",
   "execution_count": 36,
   "metadata": {},
   "outputs": [
    {
     "data": {
      "image/png": "[encoded data removed]",
      "text/plain": [
       "<Figure size 640x480 with 2 Axes>"
      ]
     },
     "metadata": {},
     "output_type": "display_data"
    }
   ],
   "source": [
    "plot_heatmap(alignments[0], tokenized_sentences[0])"
   ]
  },
  {
   "cell_type": "code",
   "execution_count": 37,
   "metadata": {},
   "outputs": [
    {
     "data": {
      "image/png": "[encoded data removed]",
      "text/plain": [
       "<Figure size 640x480 with 2 Axes>"
      ]
     },
     "metadata": {},
     "output_type": "display_data"
    }
   ],
   "source": [
    "plot_heatmap(alignments[37], tokenized_sentences[37])"
   ]
  },
  {
   "cell_type": "markdown",
   "metadata": {
    "pycharm": {
     "name": "#%% md\n"
    }
   },
   "source": [
    "Заметим, что при задании модели мы сделали довольно сильное предположение о том, что вероятности выбора слова для выравнивания никак не зависят от позиции слова в целевом предложении. Можно сделать эти вероятности настраиваемыми параметрами, получив прямоугольную матрицу $\\phi_{m,n}(j|i)=p(a_i=j|m,n)$ для каждой пары длин предложений $m,n$: по-прежнему мы получаем распределение над индексами в исходном предложении. Тогда модель приобретает вид\n",
    "$$\n",
    "p(A,T|S)=\\prod_{i=1}^m p(a_i|m,n)p(t_i| a_i, S)=\\prod_{i=1}^m \\phi_{m,n}(a_i|i)\\theta(t_i|s_{a_i}).\n",
    "$$"
   ]
  },
  {
   "cell_type": "markdown",
   "metadata": {
    "pycharm": {
     "name": "#%% md\n"
    }
   },
   "source": [
    "**Задание 5. (1.5 балла)** Выведите шаги EM-алгоритма для этой модели, а также получите выражение для подсчёта нижней оценки правдоподобия."
   ]
  },
  {
   "attachments": {},
   "cell_type": "markdown",
   "metadata": {
    "pycharm": {
     "name": "#%% md\n"
    }
   },
   "source": [
    "ଘ(๑˃̵ᴗ˂̵)━☆ﾟ.*･｡ﾟ\n",
    "\n",
    "Е-шаг. Посчитаем апостериорные вероятности. Аналогично предыдущей модели сделаем преобразования.\n",
    "\n",
    "$$\n",
    "S_i - \\text{i-ое предложение на source языке}, n - \\text{длина предложения}\n",
    "\\\\\n",
    "T_i - \\text{i-ое предложение на target языке}, m - \\text{длина предложения}\n",
    "\\\\\n",
    "A_i - \\text{выравнивание в i-ом предложении}\n",
    "\\\\\n",
    "q_{ijk} = p(A_{ik} = j \\mid S_i, T_i) = \\frac{p(T_i, A_{ik} = j \\mid S_i)}{p(T_i \\mid S_i)} = \\frac{\\sum_{j_1,\\ldots, j_{k-1}, j_{k+1}, \\ldots, j_m} p(T_i, A_{i1} = j_1, \\ldots, A_{ik} = j, \\ldots, A_{im} = j_m \\mid S_i)}{\\sum_{l_1, \\ldots, l_m} p(T_i, A_{i1} = l_1, \\ldots, A_{ik} = l_k, \\ldots, A_{im} = l_m \\mid S_i)} =\\\\\n",
    "= \\frac{\\sum_{j_1,\\ldots, j_{k-1}, j_{k+1}, \\ldots, j_m} \\phi_{m_i, n_i} (j \\mid k) \\theta(T_{ik} \\mid S_{ij}) \\prod_{\\alpha=1, \\alpha \\ne k}^m \\phi_{m_i, n_i} (j_{\\alpha} \\mid \\alpha) \\theta(T_{i\\alpha} \\mid S_{ij_\\alpha})}{\\sum_{l_1, \\ldots, l_m} \\prod_{\\alpha=1}^m \\phi_{m_i, n_i} (l_{\\alpha} \\mid \\alpha) \\theta(T_{i\\alpha} \\mid S_{il_\\alpha})} =\\\\=\\frac{\\left(\\prod_{\\alpha=1, \\alpha \\ne k}^m \\sum_{j_1,\\ldots, j_{k-1}, j_{k+1}, \\ldots, j_m} \\phi_{m_i, n_i} (j_{\\alpha} \\mid \\alpha) \\theta(T_{i\\alpha} \\mid S_{ij_\\alpha}) \\right) \\phi_{m_i, n_i} (j \\mid k) \\theta(T_{ik} \\mid S_{ij})}{\\prod_{\\alpha=1}^m \\sum_{l_1, \\ldots, l_m} \\phi_{m_i, n_i} (l_{\\alpha} \\mid \\alpha) \\theta(T_{i\\alpha} \\mid S_{il_\\alpha})} =\\\\\n",
    "=\\frac{\\phi_{m_i, n_i} (j \\mid k) \\theta(T_{ik} \\mid S_{ij})}{\\sum_{l=1}^n \\phi_{m_i, n_i} (l \\mid k) \\theta(T_{ik} \\mid S_{il})}\n",
    "$$\n",
    "\n",
    "М-шаг. Максимизируем следующий функционал\n",
    "$$\n",
    "E_q \\left[\\log P(\\mathbb{A}, \\mathbb{T} \\mid \\mathbb{S})\\right] = E_q \\left[\\log{(\\prod_{i=1}^{L} P(A_i, T_i \\mid S_i))}\\right] = E_q \\left[\\sum_{i=1}^{L} \\log{(P(A_i, T_i \\mid S_i))} \\right] =\\\\= E_q \\left[ \\sum_{i=1}^{L} \\log{(\\prod_{k=1}^{m_i} \\phi_{m_i, n_i} (A_{ik} \\mid k) \\theta(T_{ik} \\mid S_{iA_{ik}}))} \\right] =\\\\\n",
    "= E_q \\left[ \\sum_{i=1}^{L} \\sum_{k=1}^{m_i} \\log{\\phi_{m_i, n_i} (A_{ik} \\mid k)} + \\log{\\theta(T_{ik} \\mid S_{iA_{ik}})} \\right] =\\\\= \\sum_{i=1}^{L} \\sum_{j=1}^{n_i} \\sum_{k=1}^{m_i} q_{ijk} \\log{\\phi_{m_i, n_i} (A_{ik} \\mid k)} + \\sum_{i=1}^{L} \\sum_{j=1}^{n_i} \\sum_{k=1}^{m_i} q_{ijk} \\log{\\theta(T_{ik} \\mid S_{iA_{ik}})} \\to \\max_{\\phi, \\theta}\n",
    "$$\n",
    "\n",
    "Заметим, что оптимизировать функционал можно независимо по $\\phi$ и по $\\theta$, поэтому пересчет $\\theta$ не изменится.\n",
    "\n",
    "Запишем лагранжиан для $\\phi$, аналогично действуем дифференцируя по параметру, приравняя градиент к нулю, выражаем и ищем лямбду исходя из того, что вероятности суммируются в 1.\n",
    "$$\n",
    "L = \\sum_{i=1}^{L} \\sum_{j=1}^{n_i} \\sum_{k=1}^{m_i} q_{ijk} \\log{\\phi_{m_i, n_i} (j \\mid k)} - \\sum_{i=1}^L \\lambda_i^T (\\Phi_{m_i, n_i} * \\hat{1} - \\hat{1})\n",
    "$$\n",
    "\n",
    "$$\n",
    "\\frac{\\partial{L}}{\\partial{\\phi_{m,n}(j \\mid k)}} = \\sum_{i : m_i = m, n_i = n} \\left(\\frac{q_{ijk}}{\\phi_{m,n}(j \\mid k)} - \\sum_{k'=1}^{m} \\lambda_{ik'} \\right) = 0 \\Rightarrow \\\\\n",
    "\n",
    "\\phi_{m,n}(j \\mid k) = \\frac{\\sum_{i : m_i = m, n_i = n} q_{ijk}}{\\sum_{k'=1}^{m} \\lambda_{ik'}} = \\frac{\\sum_{i : m_i = m, n_i = n} q_{ijk}}{\\sum_{i : m_i = m, n_i = n} \\sum_{j'} \\sum_{k'} q_{ij'k'}}\n",
    "$$"
   ]
  },
  {
   "cell_type": "markdown",
   "metadata": {
    "pycharm": {
     "name": "#%% md\n"
    }
   },
   "source": [
    "**Задание 6. (2 балла)** Реализуйте все методы класса `WordPositionAligner`, протестируйте их корректность через Яндекс.Контест. Обучите модель, оцените её качество на истинной разметке и сравните его с качеством предыдущей более простой модели. Проиллюстрируйте влияние стартовых параметров на результат, проинициализировав эту модель параметрами модели из задания 2 (важно, чтобы суммарное число эпох обучения в обоих сценариях оставалось тем же)."
   ]
  },
  {
   "cell_type": "code",
   "execution_count": 38,
   "metadata": {
    "pycharm": {
     "name": "#%%\n"
    }
   },
   "outputs": [
    {
     "data": {
      "text/plain": [
       "0.5802331923476686"
      ]
     },
     "execution_count": 38,
     "metadata": {},
     "output_type": "execute_result"
    }
   ],
   "source": [
    "from models import WordPositionAligner\n",
    "\n",
    "# (≧ ◡ ≦)━★☆.*･｡ﾟ\n",
    "word_position_aligner = WordPositionAligner(len(t_idx_src), len(t_idx_tgt), 20)\n",
    "history = word_position_aligner.fit(tokenized_sentences)\n",
    "compute_aer(all_targets, word_position_aligner.align(tokenized_sentences))"
   ]
  },
  {
   "cell_type": "code",
   "execution_count": 41,
   "metadata": {},
   "outputs": [
    {
     "data": {
      "text/plain": [
       "0.5599189075154621"
      ]
     },
     "execution_count": 41,
     "metadata": {},
     "output_type": "execute_result"
    }
   ],
   "source": [
    "word_position_aligner = WordPositionAligner(len(t_idx_src), len(t_idx_tgt), 20)\n",
    "word_position_aligner.translation_probs = word_aligner.translation_probs\n",
    "history = word_position_aligner.fit(tokenized_sentences)\n",
    "compute_aer(all_targets, word_position_aligner.align(tokenized_sentences))"
   ]
  },
  {
   "attachments": {},
   "cell_type": "markdown",
   "metadata": {},
   "source": [
    "Действительно, инициализация важна, второй подход дал значение метрики хуже, чем первый. После изменения инициализации результат улучшился."
   ]
  },
  {
   "cell_type": "markdown",
   "metadata": {
    "pycharm": {
     "name": "#%% md\n"
    }
   },
   "source": [
    "**Задание 7. (1 балл)** В предыдущих пунктах мы никак не заостряли внимание на предобработке текстов, что может негативно влиять на результаты обученной модели. Например, сейчас метод выравнивания учитывает регистр, а слова на чешском языке вдобавок обладают богатой морфологией и большим количеством диакритических знаков. Если сократить количество параметров модели (различных слов), можно ускорить обучение и добиться лучших результатов, потому что статистики по словам будут считаться по большему числу параллельных предложений.\n",
    "\n",
    "Примените к исходным данным [Unicode-нормализацию](https://en.wikipedia.org/wiki/Unicode_equivalence#Normalization), приведите их к нижнему регистру и обучите модель выравнивания заново. Сравните качество и скорость обучения с предыдущими результатами и сделайте выводы. Если вы найдете в данных ещё какие-то проблемы, которые можно исправить более грамотной предобработкой, также продемонстрируйте, как их решение влияет на качество.\n",
    "\n",
    "**Важно:** здесь и далее в процессе обработки данных у вас может получаться, что из тестовых данных будут удалены предложения из-за отсутствия слов в словаре. Если такое всё же произошло, для корректности сравнения считайте AER вашей модели на удалённых предложениях равным 1."
   ]
  },
  {
   "cell_type": "code",
   "execution_count": 51,
   "metadata": {
    "pycharm": {
     "name": "#%%\n"
    }
   },
   "outputs": [],
   "source": [
    "# (੭•̀ω•́)੭̸*✩⁺˚\n",
    "from unicodedata import normalize\n",
    "from preprocessing import SentencePair"
   ]
  },
  {
   "cell_type": "code",
   "execution_count": 60,
   "metadata": {},
   "outputs": [],
   "source": [
    "all_normalized_sentences = []\n",
    "form = \"NFD\" # все остальные дали одинаковый результат\n",
    "\n",
    "for sentence in all_sentences:\n",
    "    words = []\n",
    "    for word in sentence.source:\n",
    "        words.append(normalize(form, word).lower())\n",
    "    \n",
    "    words2 = []\n",
    "    for word in sentence.target:\n",
    "        words2.append(normalize(form, word).lower())\n",
    "\n",
    "    all_normalized_sentences.append(SentencePair(source=words, target=words2))\n",
    "\n",
    "t_idx_src, t_idx_tgt = get_token_to_index(all_normalized_sentences)\n",
    "tokenized_sentences = tokenize_sents(all_normalized_sentences, t_idx_src, t_idx_tgt)\n"
   ]
  },
  {
   "cell_type": "code",
   "execution_count": 61,
   "metadata": {},
   "outputs": [
    {
     "data": {
      "text/plain": [
       "0.8007318859759813"
      ]
     },
     "execution_count": 61,
     "metadata": {},
     "output_type": "execute_result"
    }
   ],
   "source": [
    "baseline = DiceAligner(len(t_idx_src), len(t_idx_tgt), threshold=0.01)\n",
    "baseline.fit(tokenized_sentences)\n",
    "compute_aer(all_targets, baseline.align(tokenized_sentences))"
   ]
  },
  {
   "cell_type": "code",
   "execution_count": 62,
   "metadata": {},
   "outputs": [
    {
     "data": {
      "text/plain": [
       "0.560320253568378"
      ]
     },
     "execution_count": 62,
     "metadata": {},
     "output_type": "execute_result"
    }
   ],
   "source": [
    "word_aligner = WordAligner(len(t_idx_src), len(t_idx_tgt), 20)\n",
    "history = word_aligner.fit(tokenized_sentences)\n",
    "compute_aer(all_targets, word_aligner.align(tokenized_sentences))"
   ]
  },
  {
   "cell_type": "code",
   "execution_count": 63,
   "metadata": {},
   "outputs": [
    {
     "data": {
      "text/plain": [
       "0.5471169975198873"
      ]
     },
     "execution_count": 63,
     "metadata": {},
     "output_type": "execute_result"
    }
   ],
   "source": [
    "word_position_aligner = WordPositionAligner(len(t_idx_src), len(t_idx_tgt), 20)\n",
    "word_position_aligner.translation_probs = word_aligner.translation_probs\n",
    "history = word_position_aligner.fit(tokenized_sentences)\n",
    "compute_aer(all_targets, word_position_aligner.align(tokenized_sentences))"
   ]
  },
  {
   "attachments": {},
   "cell_type": "markdown",
   "metadata": {},
   "source": [
    "Действительно, стало лучше значение метрики и обучение быстрее."
   ]
  },
  {
   "cell_type": "markdown",
   "metadata": {
    "pycharm": {
     "name": "#%% md\n"
    }
   },
   "source": [
    "**Задание 7. (бонус, до 3 баллов)** \n",
    "\n",
    "Улучшите качество получившейся системы настолько, насколько сможете. За каждые 5 процентов, на которые AER на тех же данных получается меньше, чем минимум ошибки всех предыдущих моделей, вы получите по 1 бонусному баллу.\n",
    "\n",
    "Ниже приведены несколько идей, которые могут помочь вам повысить \n",
    "\n",
    "* Модифицировать модель: как вы можете понять, недостатком второго реализованного вами подхода является избыточное число параметров из-за необходимости подерживать отдельную матрицу для каждой различной пары длин предложений в корпусе. В статье https://www.aclweb.org/anthology/N13-1073.pdf приведён способ снижения числа параметров, задающих априорное распределение позиций выравнивания, который позволяет в десять раз быстрее обучать модель и получать лучшее качество.\n",
    "* Агрегация по двум направлениям: в статье https://www.aclweb.org/anthology/J03-1002/ утверждается, что асимметричность выравниваний вредит качеству, потому что из-за выбранной модели одному слову в целевом предложении не может соответствовать два слова в исходном предложении. Для решения этой проблемы (и улучшения метрик, разумеется) авторы предлагают несколько алгоритмов, которые можно попробовать применить в этом задании.\n",
    "* Использовать больше обучающих данных. В корпусе, которым мы пользуемся, только пара тысяч предложений, чего может не хватать для по-настоящему хорошей модели выравнивания. Разумеется, неразмеченных параллельных английско-чешских корпусов гораздо больше, поэтому можно воспользоваться ими. Хорошая точка для старта — данные с соревнования по машинному переводу  [воркшопа WMT](http://www.statmt.org/wmt20/translation-task.html).\n",
    "* В языках часто существуют слова наподобие артиклей или предлогов, которым не соответствует ни одно слово в переводе. Все рассмотренные в рамках задания модели это не учитывают, возможно, добавление возможности перевода в «нулевой» токен улучшит качество модели (при тестировании такие выравнивания имеет смысл выбрасывать)"
   ]
  },
  {
   "cell_type": "code",
   "execution_count": 40,
   "metadata": {
    "pycharm": {
     "name": "#%%\n"
    }
   },
   "outputs": [],
   "source": [
    "# ┐_(ツ)_┌━☆ﾟ.*･｡ﾟ"
   ]
  }
 ],
 "metadata": {
  "kernelspec": {
   "display_name": "kkorolev",
   "language": "python",
   "name": "python3"
  },
  "language_info": {
   "codemirror_mode": {
    "name": "ipython",
    "version": 3
   },
   "file_extension": ".py",
   "mimetype": "text/x-python",
   "name": "python",
   "nbconvert_exporter": "python",
   "pygments_lexer": "ipython3",
   "version": "3.8.15"
  },
  "vscode": {
   "interpreter": {
    "hash": "f404e0e273a4f0796c7e39d3cee33e66306a58991d52ed6c42396fee84b35bae"
   }
  }
 },
 "nbformat": 4,
 "nbformat_minor": 4
}
